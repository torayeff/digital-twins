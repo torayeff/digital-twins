{
 "cells": [
  {
   "cell_type": "markdown",
   "id": "815ee885",
   "metadata": {},
   "source": [
    "# Analysis of Energy Consumption Optimization"
   ]
  },
  {
   "cell_type": "code",
   "execution_count": 1,
   "id": "62bca276",
   "metadata": {},
   "outputs": [
    {
     "data": {
      "application/javascript": [
       "\n",
       "            setTimeout(function() {\n",
       "                var nbb_cell_id = 1;\n",
       "                var nbb_unformatted_code = \"%load_ext nb_black\";\n",
       "                var nbb_formatted_code = \"%load_ext nb_black\";\n",
       "                var nbb_cells = Jupyter.notebook.get_cells();\n",
       "                for (var i = 0; i < nbb_cells.length; ++i) {\n",
       "                    if (nbb_cells[i].input_prompt_number == nbb_cell_id) {\n",
       "                        if (nbb_cells[i].get_text() == nbb_unformatted_code) {\n",
       "                             nbb_cells[i].set_text(nbb_formatted_code);\n",
       "                        }\n",
       "                        break;\n",
       "                    }\n",
       "                }\n",
       "            }, 500);\n",
       "            "
      ],
      "text/plain": [
       "<IPython.core.display.Javascript object>"
      ]
     },
     "metadata": {},
     "output_type": "display_data"
    }
   ],
   "source": [
    "%load_ext nb_black"
   ]
  },
  {
   "cell_type": "code",
   "execution_count": 2,
   "id": "b8c6a60d",
   "metadata": {},
   "outputs": [
    {
     "data": {
      "application/javascript": [
       "\n",
       "            setTimeout(function() {\n",
       "                var nbb_cell_id = 2;\n",
       "                var nbb_unformatted_code = \"import os\\nimport numpy as np\\nimport pickle\\nimport utils\\nimport matplotlib.pyplot as plt\\nimport seaborn as sns\\nimport glob\\nimport sqlite3\\nimport pandas as pd\\nfrom ax.utils.notebook.plotting import render, init_notebook_plotting\\nfrom ax.plot.contour import plot_contour\\nfrom ax.modelbridge.factory import get_GPEI\\n\\nsns.set(style=\\\"whitegrid\\\")\\nsns.set_context(\\\"paper\\\")\\n\\npalette = [\\n    sns.color_palette()[-1],\\n    sns.color_palette()[-2],\\n    sns.color_palette()[0],\\n    sns.color_palette()[1],\\n    sns.color_palette()[2],\\n]\";\n",
       "                var nbb_formatted_code = \"import os\\nimport numpy as np\\nimport pickle\\nimport utils\\nimport matplotlib.pyplot as plt\\nimport seaborn as sns\\nimport glob\\nimport sqlite3\\nimport pandas as pd\\nfrom ax.utils.notebook.plotting import render, init_notebook_plotting\\nfrom ax.plot.contour import plot_contour\\nfrom ax.modelbridge.factory import get_GPEI\\n\\nsns.set(style=\\\"whitegrid\\\")\\nsns.set_context(\\\"paper\\\")\\n\\npalette = [\\n    sns.color_palette()[-1],\\n    sns.color_palette()[-2],\\n    sns.color_palette()[0],\\n    sns.color_palette()[1],\\n    sns.color_palette()[2],\\n]\";\n",
       "                var nbb_cells = Jupyter.notebook.get_cells();\n",
       "                for (var i = 0; i < nbb_cells.length; ++i) {\n",
       "                    if (nbb_cells[i].input_prompt_number == nbb_cell_id) {\n",
       "                        if (nbb_cells[i].get_text() == nbb_unformatted_code) {\n",
       "                             nbb_cells[i].set_text(nbb_formatted_code);\n",
       "                        }\n",
       "                        break;\n",
       "                    }\n",
       "                }\n",
       "            }, 500);\n",
       "            "
      ],
      "text/plain": [
       "<IPython.core.display.Javascript object>"
      ]
     },
     "metadata": {},
     "output_type": "display_data"
    }
   ],
   "source": [
    "import os\n",
    "import numpy as np\n",
    "import pickle\n",
    "import utils\n",
    "import matplotlib.pyplot as plt\n",
    "import seaborn as sns\n",
    "import glob\n",
    "import sqlite3\n",
    "import pandas as pd\n",
    "from ax.utils.notebook.plotting import render, init_notebook_plotting\n",
    "from ax.plot.contour import plot_contour\n",
    "from ax.modelbridge.factory import get_GPEI\n",
    "\n",
    "sns.set(style=\"whitegrid\")\n",
    "sns.set_context(\"paper\")\n",
    "\n",
    "palette = [\n",
    "    sns.color_palette()[-1],\n",
    "    sns.color_palette()[-2],\n",
    "    sns.color_palette()[0],\n",
    "    sns.color_palette()[1],\n",
    "    sns.color_palette()[2],\n",
    "]"
   ]
  },
  {
   "cell_type": "code",
   "execution_count": 3,
   "id": "0d846ab6",
   "metadata": {},
   "outputs": [
    {
     "data": {
      "application/javascript": [
       "\n",
       "            setTimeout(function() {\n",
       "                var nbb_cell_id = 3;\n",
       "                var nbb_unformatted_code = \"data_dir = \\\"data/exp_50/\\\"\";\n",
       "                var nbb_formatted_code = \"data_dir = \\\"data/exp_50/\\\"\";\n",
       "                var nbb_cells = Jupyter.notebook.get_cells();\n",
       "                for (var i = 0; i < nbb_cells.length; ++i) {\n",
       "                    if (nbb_cells[i].input_prompt_number == nbb_cell_id) {\n",
       "                        if (nbb_cells[i].get_text() == nbb_unformatted_code) {\n",
       "                             nbb_cells[i].set_text(nbb_formatted_code);\n",
       "                        }\n",
       "                        break;\n",
       "                    }\n",
       "                }\n",
       "            }, 500);\n",
       "            "
      ],
      "text/plain": [
       "<IPython.core.display.Javascript object>"
      ]
     },
     "metadata": {},
     "output_type": "display_data"
    }
   ],
   "source": [
    "data_dir = \"data/exp_50/\""
   ]
  },
  {
   "cell_type": "code",
   "execution_count": 4,
   "id": "cd8a941e",
   "metadata": {},
   "outputs": [
    {
     "data": {
      "application/javascript": [
       "\n",
       "            setTimeout(function() {\n",
       "                var nbb_cell_id = 4;\n",
       "                var nbb_unformatted_code = \"# bayesian optimization\\nwith open(f\\\"{data_dir}experiment.pkl\\\", \\\"rb\\\") as f:\\n    bo_best_param, values, experiment = pickle.load(f)\\n\\n    bo_trials = np.array(\\n        [[trial.objective_mean for trial in experiment.trials.values()]]\\n    )[0]\\n    bo_best_E = values[0][\\\"ec\\\"]\";\n",
       "                var nbb_formatted_code = \"# bayesian optimization\\nwith open(f\\\"{data_dir}experiment.pkl\\\", \\\"rb\\\") as f:\\n    bo_best_param, values, experiment = pickle.load(f)\\n\\n    bo_trials = np.array(\\n        [[trial.objective_mean for trial in experiment.trials.values()]]\\n    )[0]\\n    bo_best_E = values[0][\\\"ec\\\"]\";\n",
       "                var nbb_cells = Jupyter.notebook.get_cells();\n",
       "                for (var i = 0; i < nbb_cells.length; ++i) {\n",
       "                    if (nbb_cells[i].input_prompt_number == nbb_cell_id) {\n",
       "                        if (nbb_cells[i].get_text() == nbb_unformatted_code) {\n",
       "                             nbb_cells[i].set_text(nbb_formatted_code);\n",
       "                        }\n",
       "                        break;\n",
       "                    }\n",
       "                }\n",
       "            }, 500);\n",
       "            "
      ],
      "text/plain": [
       "<IPython.core.display.Javascript object>"
      ]
     },
     "metadata": {},
     "output_type": "display_data"
    }
   ],
   "source": [
    "# bayesian optimization\n",
    "with open(f\"{data_dir}experiment.pkl\", \"rb\") as f:\n",
    "    bo_best_param, values, experiment = pickle.load(f)\n",
    "\n",
    "    bo_trials = np.array(\n",
    "        [[trial.objective_mean for trial in experiment.trials.values()]]\n",
    "    )[0]\n",
    "    bo_best_E = values[0][\"ec\"]"
   ]
  },
  {
   "cell_type": "code",
   "execution_count": 5,
   "id": "17c06a1b",
   "metadata": {},
   "outputs": [
    {
     "data": {
      "image/png": "[encoded data removed]",
      "text/plain": [
       "<Figure size 720x576 with 1 Axes>"
      ]
     },
     "metadata": {},
     "output_type": "display_data"
    },
    {
     "data": {
      "application/javascript": [
       "\n",
       "            setTimeout(function() {\n",
       "                var nbb_cell_id = 5;\n",
       "                var nbb_unformatted_code = \"# Bayesian Optimization\\nx = np.arange(1, len(bo_trials) + 1)\\nplt.figure(figsize=(10, 8))\\nplt.title(\\\"Bayesian Optimization\\\", fontsize=16)\\n\\nplt.plot(x, bo_trials, color=sns.color_palette()[2])\\n# plt.xlim(1, 1000)\\nplt.tick_params(axis=\\\"both\\\", which=\\\"major\\\", labelsize=14)\\nplt.xlabel(\\\"Iteration\\\", fontsize=14)\\nplt.ylabel(\\\"kWh\\\", fontsize=14)\\nplt.savefig(\\\"learning_bo.pdf\\\", format=\\\"pdf\\\")\\nplt.show()\";\n",
       "                var nbb_formatted_code = \"# Bayesian Optimization\\nx = np.arange(1, len(bo_trials) + 1)\\nplt.figure(figsize=(10, 8))\\nplt.title(\\\"Bayesian Optimization\\\", fontsize=16)\\n\\nplt.plot(x, bo_trials, color=sns.color_palette()[2])\\n# plt.xlim(1, 1000)\\nplt.tick_params(axis=\\\"both\\\", which=\\\"major\\\", labelsize=14)\\nplt.xlabel(\\\"Iteration\\\", fontsize=14)\\nplt.ylabel(\\\"kWh\\\", fontsize=14)\\nplt.savefig(\\\"learning_bo.pdf\\\", format=\\\"pdf\\\")\\nplt.show()\";\n",
       "                var nbb_cells = Jupyter.notebook.get_cells();\n",
       "                for (var i = 0; i < nbb_cells.length; ++i) {\n",
       "                    if (nbb_cells[i].input_prompt_number == nbb_cell_id) {\n",
       "                        if (nbb_cells[i].get_text() == nbb_unformatted_code) {\n",
       "                             nbb_cells[i].set_text(nbb_formatted_code);\n",
       "                        }\n",
       "                        break;\n",
       "                    }\n",
       "                }\n",
       "            }, 500);\n",
       "            "
      ],
      "text/plain": [
       "<IPython.core.display.Javascript object>"
      ]
     },
     "metadata": {},
     "output_type": "display_data"
    }
   ],
   "source": [
    "# Bayesian Optimization\n",
    "x = np.arange(1, len(bo_trials) + 1)\n",
    "plt.figure(figsize=(10, 8))\n",
    "plt.title(\"Bayesian Optimization\", fontsize=16)\n",
    "\n",
    "plt.plot(x, bo_trials, color=sns.color_palette()[2])\n",
    "# plt.xlim(1, 1000)\n",
    "plt.tick_params(axis=\"both\", which=\"major\", labelsize=14)\n",
    "plt.xlabel(\"Iteration\", fontsize=14)\n",
    "plt.ylabel(\"kWh\", fontsize=14)\n",
    "plt.savefig(\"learning_bo.pdf\", format=\"pdf\")\n",
    "plt.show()"
   ]
  },
  {
   "cell_type": "code",
   "execution_count": 6,
   "id": "0246f660",
   "metadata": {},
   "outputs": [
    {
     "name": "stdout",
     "output_type": "stream",
     "text": [
      "[1.24700443 1.49212258 1.1825794  1.05979453 0.92454879 1.17479379\n",
      " 1.10017339 1.49259386 1.10915325 0.84019711 1.30127049 1.30100065\n",
      " 1.37503519 1.04393607 0.90503275 0.88846831 1.01032292 0.90320036\n",
      " 1.04166107 0.91868199 1.13022978 0.86302871 1.11172715 1.00420689\n",
      " 1.32165958 1.4140784  1.20642039 1.16298972 0.9505846  0.86645801\n",
      " 0.87454247 0.86951428 0.86796208 0.86318417 0.97559867 0.88545446\n",
      " 0.83408335 0.85645871 0.74711326 0.71969743 0.87086143 0.80350351\n",
      " 0.81688485 0.76947106 0.81515272 0.83647276 0.77241674 0.85400072\n",
      " 0.81017014 0.79028074 0.81097936 0.80954607 0.79928097 0.78639565\n",
      " 0.84094921 0.78831994 0.78317539 0.83037799 0.80631717 0.84563724\n",
      " 0.85332908 0.80167733 0.79679733 0.79474563 0.81715675 0.81605451\n",
      " 0.88274763 0.81936522 0.82505132 0.82740518 0.80458024 0.82773897\n",
      " 0.78558218 0.64720787 0.82103992 0.87838089 0.85963435 0.92505217\n",
      " 0.87452501 0.83279731 0.91091119 0.81855633 0.79703597 0.84716388\n",
      " 0.76360087 0.8479441  0.78342083 0.64028086 0.88268749 0.78479764\n",
      " 0.81198015 0.74661179 0.84802039 0.81602885 0.87735185 0.86649369\n",
      " 0.8651541  0.88833722 0.88687203 0.85691885 0.82175029 0.88876803\n",
      " 0.82074338 0.87818839 0.84137226 0.90311417 0.83027381 0.84171128\n",
      " 0.82174007 0.83543356 0.80218838 0.8116269  0.88455472 0.76828325\n",
      " 0.78899374 0.62703693 0.81667593 0.81799703 0.82919308 0.81872626\n",
      " 0.80048785 0.86709365 0.88315031 0.84728765 0.80633061 0.7580164\n",
      " 0.87377881 0.79259358 0.89914276 0.86899803 0.59411696 0.76713743\n",
      " 0.69935692 0.60247631 0.61229328 0.59685187 0.65580814 0.78256276\n",
      " 0.8662815  0.83627251 0.76532924 0.81736138 0.81788224 0.82574886\n",
      " 0.78881311 0.80236318 0.77590993 0.77204181 0.8293294  0.81767031\n",
      " 0.85357893 0.79896533 0.83916661 0.72196064 0.65475893 0.8203331\n",
      " 0.78748571 0.78575836 0.79567292 0.81675165 0.79449933 0.78270711\n",
      " 0.78813235 0.77563207 0.82249038 0.84034829 0.83460433 0.83825154\n",
      " 0.87323694 0.8074209  0.8190274  0.7747655  0.82623822 0.8471041\n",
      " 0.83297285 0.8010499  0.80311939 0.76008239 0.70751382 0.77782272\n",
      " 0.77453831 0.78210418 0.83846796 0.81954204 0.80708585 0.79018736\n",
      " 0.86126218 0.80091564 0.78013389 0.78281043 0.84758297 0.79238021\n",
      " 0.81374871 0.73497508 0.78081799 0.85651585 0.75559619 0.807751\n",
      " 0.80633881 0.89700981 0.78015136 0.81121464 0.77383806 0.82405913\n",
      " 0.81412436 0.67084369 0.77518119 0.80830261 0.83582133 0.80188189\n",
      " 0.7818506  0.8154726  0.83270221 0.80476421 0.80940613 0.74258189\n",
      " 0.82491081 0.87946664 0.75755097 0.84968785 0.8054615  0.76695724\n",
      " 0.78154621 0.8017381  0.79954107 0.79880319 0.72763376 0.79515763\n",
      " 0.78878881 0.76291829 0.87328187 0.73616836 0.7726219  0.73602997\n",
      " 0.65008719 0.66395771 0.78145287 0.76993599 0.71852543 0.79577744\n",
      " 0.76093656 0.75912782 0.74143565 0.79172436 0.81330558 0.79624688\n",
      " 0.8153666  0.82642418 0.79861582 0.78504281 0.83185972 0.62624565\n",
      " 0.67516822 0.76227399 0.80609508 0.75148486 0.79614024 0.83388022\n",
      " 0.78543747 0.79932692 0.81480354 0.78998842 0.81654118 0.79610596\n",
      " 0.75965504 0.79744783 0.79120249 0.78720513 0.80163101 0.81930883\n",
      " 0.81490201 0.82538475 0.79323256 0.78853151 0.82023239 0.76975971\n",
      " 0.78809049 0.78241601 0.83247992 0.74036531 0.75680557 0.75116529\n",
      " 0.77102125 0.79918558 0.78604086 0.79170578 0.80174956 0.77294757\n",
      " 0.7910121  0.79103465 0.76429228 0.84352769 0.82076235 0.79066739\n",
      " 0.665243   0.7426386  0.79976874 0.73285396 0.70321721 0.8023734\n",
      " 0.80252381 0.81401157 0.8148125  0.80247554 0.80995353 0.86392015\n",
      " 0.79614235 0.83167132 0.78106486 0.81445488 0.81074799 0.81621226\n",
      " 0.83796011 0.75132633 0.80529694 0.79732301 0.77374672 0.78654122\n",
      " 0.75829757 0.75338213 0.76409421 0.82073201 0.79004369 0.75124312\n",
      " 0.79517861 0.8854164  0.81059901 0.74208792 0.81034744 0.82052335\n",
      " 0.68805951 0.71197897 0.68624114 0.6634076  0.76134115 0.76947528\n",
      " 0.810964   0.77682715 0.80189749 0.80298776 0.79462011 0.74298551\n",
      " 0.80773818 0.80036435 0.77657611 0.83180911 0.77336697 0.7730819\n",
      " 0.78900711 0.79531769 0.86401725 0.81327081 0.80402692 0.79272403\n",
      " 0.82844118 0.74063232 0.76802985 0.60449126 0.65563771 0.77753515\n",
      " 0.8745915  0.79727529 0.75422585 0.7797425  0.78978738 0.79010331\n",
      " 0.73950554 0.84341044 0.84771972 0.76681856 0.794692   0.80017382\n",
      " 1.00930415 0.80701139 0.7827529  0.81106864 0.74323296 0.81362918\n",
      " 0.75208264 0.79404394 0.81922125 1.03128108 0.85808046 0.78927665\n",
      " 0.80215504 0.81301371 0.76377211 0.78901338 0.81434817 0.79602586\n",
      " 0.82698028 0.76519894 0.75984233 0.77744814 0.76882215 0.82506199\n",
      " 0.81327017 0.80734479 0.81177438 1.01926551 0.75609128 0.81399588\n",
      " 0.88464251 1.11313394 1.15119767 0.88606268 0.8280515  0.96818681\n",
      " 0.77817288 0.76900989 0.83983842 0.82135849 0.88549736 1.12434403\n",
      " 0.81796999 0.78151693 0.58648708 0.7465711  0.82016342 0.82871056\n",
      " 0.90218024 0.78694715 0.76678219 0.76725175 0.77401193 0.99492421\n",
      " 0.82240711 0.75863385 0.31433229 1.08558514 1.22071774 1.04312874\n",
      " 1.25368969 1.14884225 0.96840815 1.10058643 1.34676535 1.04583618\n",
      " 1.26239017 1.01192031 1.10349507 1.36953003 0.98609583 1.14696125\n",
      " 1.24968225 1.04657079 1.17680606 0.98615738 0.99115444 1.04423481\n",
      " 0.9781035  1.29541593 1.1542745  1.09570846 1.21196421 1.11058414\n",
      " 1.17087649 1.04457017 1.31828297 1.14892537 1.15393712 1.43377396\n",
      " 1.0495246  1.11091535 1.02956196 1.0246116  1.17123989 1.30482607\n",
      " 1.19343774 1.13170407 1.12257635 1.13008647 1.15650193 1.07789446\n",
      " 0.92032449 1.48195286 0.95882132 1.20673624 1.30175911 1.22018579\n",
      " 1.2659971  1.12375296 1.08914715 1.13840435 1.40606578 1.0966985\n",
      " 1.07586383 1.03112976 1.22966775 1.16346171 1.28166783 1.37447172\n",
      " 1.0370184  1.11973419 1.00841754 0.97272882 1.16104218 1.39575671\n",
      " 1.07849128 0.93640603 1.68293063 1.16246779 1.42905867 1.28014013\n",
      " 1.29866714 1.18175576 1.20319711 1.45709218 0.93841633 1.21448893\n",
      " 1.51045531 1.42298888 1.01963767 1.26378422 1.48948703 1.25207268\n",
      " 1.18926622 1.20442993 1.09746126 1.25342657 1.09446136 1.08528493\n",
      " 1.31415764 1.24111104 0.99228989 1.05206264 1.09611574 0.9896425\n",
      " 0.98959715 1.13885667 1.17138151 0.84129835 0.8493151  0.90410481\n",
      " 1.38036326 1.07657875 1.2619899  0.9237081  1.02284614 1.29966196\n",
      " 0.97655107 1.26938585 1.3217021  0.99104306 1.12750254 0.9099349\n",
      " 1.28478332 1.36374479 1.05222838 1.47342421 1.25968067 1.05547824\n",
      " 1.01071018 0.97613064 1.29134342 1.18229851 0.82572017 1.17140772\n",
      " 1.11695028 1.33450597 1.15406372 1.03202868 1.30937861 1.5713661\n",
      " 1.10661606 1.1291049  1.24400436 0.84205192 1.02690093 1.2381386\n",
      " 1.35463743 1.12290528 1.26415449 0.92897611 1.23389182 1.39468061\n",
      " 1.05058162 1.11254937 1.13034922 1.1403686  0.86523069 0.86999058\n",
      " 1.27531075 0.94635074 1.19422421 1.17400637 1.29170061 1.58533274\n",
      " 1.01719986 0.99179017 0.94230043 0.95033987 0.86504186 1.10277215\n",
      " 1.46450703 1.26393114 1.048506   1.35368053 1.42466647 1.09868554\n",
      " 0.87831137 0.99521596 1.07537586 1.46373681 1.10172861 1.52314644\n",
      " 1.17200899 1.175883   0.88916561 1.17805617 1.35507628 1.04817854\n",
      " 0.9387814  0.91531674 0.87390876 0.78454417 0.9729521  1.07493717\n",
      " 0.89450719 1.02182214 1.0817739  0.96141344 0.98197251 0.99978699\n",
      " 1.10675714 1.12145396 1.2989035  1.15105494 1.02786239 1.14134057\n",
      " 0.97824318 1.14786951 1.06714722 0.91700589 1.09871239 0.82682063\n",
      " 0.83676517 0.76497468 0.79311108 0.90986017 0.7631941  1.05376483\n",
      " 0.87110089 0.89173357 1.01004583 1.07436675 0.94165272 1.08893196\n",
      " 1.00948635 0.9765531  0.74271896 0.91754824 0.96792121 0.795458\n",
      " 0.95071808 0.93768292 0.98592185 0.80176196 0.79204863 0.88008389\n",
      " 0.99005342 1.33069386 0.86467076 0.75634819 0.91955599 0.85830939\n",
      " 1.00241883 1.23784592 1.07459917 0.95228013 0.81720935 0.70559525\n",
      " 1.11384703 0.76244201 1.09838082 0.72034531 0.89233971 0.89733289\n",
      " 1.05166899 0.98955268 0.67316449 0.97692639 0.91011878 0.8952451\n",
      " 0.82247796 1.09425803 0.88059272 0.85000286 0.61588208 0.81739154\n",
      " 0.76398583 0.73175774 0.82265979 0.79616119 0.80195793 0.73910311\n",
      " 0.75562989 1.18299861 1.17800694 1.06931579 1.12591725 0.92596772\n",
      " 0.86191786 1.07335846 1.17333361 1.21318488 1.18236739 1.21168785\n",
      " 1.26429782 0.95133621 1.38094997 0.95126217 1.19474801 1.31000417\n",
      " 0.97519258 1.47399254 0.81072833 1.28138554 1.11911214 0.97506956\n",
      " 1.15814882 0.96850936 1.43225578 1.22345949 1.10056199 0.8024629\n",
      " 1.18562869 1.24129853 1.39511333 1.25277292 1.14382531 1.24745203\n",
      " 0.99661107 1.10656928 1.26478485 1.22928981 1.22189736 1.23023383\n",
      " 1.01227258 1.00726792 1.18186746 1.07893213 1.4117194  1.3067486\n",
      " 0.79171939 1.21511949 0.96890674 1.17582618 1.50801921 1.16376614\n",
      " 1.15108987 1.06662628 0.84040901 0.81815418 0.73197881 0.97026051\n",
      " 0.71308304 0.94670207 1.01399463 0.93038956 0.86605347 0.78986865\n",
      " 1.05910808 0.7927049  0.83519268 0.87818083 0.86541565 0.63425597\n",
      " 0.86712778 0.88250421 1.08027513 0.91666381 0.8382165  1.08702663\n",
      " 0.83914943 0.87917285 0.96179111 0.87916003 1.04192081 0.89545585\n",
      " 0.92674911 1.00031379 0.77033608 0.803754   0.83394576 0.94520013\n",
      " 0.79455131 0.78430692 0.78284478 0.9551234  0.84280592 1.0127714\n",
      " 0.84663085 0.86610285 0.9555301  1.07441043 1.13729404 1.114819\n",
      " 1.37778499 0.96564982 1.12633432 1.22713126 0.9099331  1.31821717\n",
      " 1.03621268 1.28146775 0.90921436 1.32651197 1.18157643 1.20471063\n",
      " 1.04919368 1.12844806 1.312507   1.09510219 1.35899836 0.95865839\n",
      " 1.19683126 1.44342646 1.18378103 1.39925181 1.03638406 1.29248868\n",
      " 1.15390244 1.53019107 1.15200263 1.00231461 1.33707744 0.83041315\n",
      " 1.19171089 1.182358   1.39507871 1.4699436  1.30500004 0.96427571\n",
      " 1.02753074 0.88592108 1.20947582 1.21142924 1.12734371 1.19404307\n",
      " 1.09560044 1.11073793 1.01057367 1.40665368 1.0712906  1.05573724\n",
      " 1.41723092 1.21258567 1.54564457 1.07402439 1.56128661 1.14165193\n",
      " 1.06367706 1.29854696 1.08418556 1.20369165 0.93005633 0.96050878\n",
      " 1.17106169 1.01762682 0.81641125 1.25196789 1.14289299 1.04033308\n",
      " 1.33698467 0.9528111  0.91434524 0.90385563 1.19948944 1.04794804\n",
      " 1.08022044 1.01041921 1.06699443 0.88998104 0.95742867 0.90199408\n",
      " 0.86823956 1.31318721 1.15786876 1.05662886 1.19473489 1.16838433\n",
      " 1.01249643 0.84875414 1.10697847 0.95312472 1.25011628 1.05591218\n",
      " 0.93782986 1.09256407 1.01500717 1.13844443 1.0629785  1.13291224\n",
      " 1.11015342 1.02209987 0.8940935  1.01485483 0.93073969 0.9692624\n",
      " 1.16463763 1.07282553 0.98374758 1.19861853 1.13926225 1.00232396\n",
      " 0.9692815  1.08196678 1.08318736 1.19180985 1.02505857 0.89581432\n",
      " 1.19071067 1.11039981 1.16086589 1.02076056 1.01993086 1.46793322\n",
      " 1.25528731 0.97653746 1.05096889 0.9099444  1.23055493 1.37274089\n",
      " 1.13860439 1.51109917 0.92684258 1.42700876 1.32472596 1.20195971\n",
      " 0.79279143 0.96409168 1.03979169 0.9023541  1.43352592 1.21086618\n",
      " 1.19620122 1.20780188 1.02491764 0.99940813 1.01603099 1.15555611\n",
      " 1.02672913 1.21875118 1.01296569 1.17352204 1.1961644  1.10593556\n",
      " 1.06616853 0.98466686 1.00025507 0.95367028 1.36280064 1.18538365\n",
      " 1.06302658 1.01064368 1.39755371 1.12224511 0.82820026 1.05753118\n",
      " 1.08645011 1.31829197 1.20435069 1.25398603 1.22047399 1.13047722\n",
      " 1.55547379 0.96673162 1.15687542 1.02115361 0.98751426 1.28711579\n",
      " 1.00411775 1.0580914  1.17537019 1.12089697 0.88392936 0.98771276\n",
      " 1.14074847 1.37776707 0.84395294 1.10001662 1.12362744 1.25727725\n",
      " 0.98459519 0.81439522 1.02685624 1.08437776 1.13616639 1.4530404\n",
      " 0.98281614 1.27624982 1.329758   1.04996    1.26810254 1.06411858\n",
      " 1.39058194 1.13254775 0.89258379 1.14170961]\n"
     ]
    },
    {
     "data": {
      "application/javascript": [
       "\n",
       "            setTimeout(function() {\n",
       "                var nbb_cell_id = 6;\n",
       "                var nbb_unformatted_code = \"print(bo_trials)\";\n",
       "                var nbb_formatted_code = \"print(bo_trials)\";\n",
       "                var nbb_cells = Jupyter.notebook.get_cells();\n",
       "                for (var i = 0; i < nbb_cells.length; ++i) {\n",
       "                    if (nbb_cells[i].input_prompt_number == nbb_cell_id) {\n",
       "                        if (nbb_cells[i].get_text() == nbb_unformatted_code) {\n",
       "                             nbb_cells[i].set_text(nbb_formatted_code);\n",
       "                        }\n",
       "                        break;\n",
       "                    }\n",
       "                }\n",
       "            }, 500);\n",
       "            "
      ],
      "text/plain": [
       "<IPython.core.display.Javascript object>"
      ]
     },
     "metadata": {},
     "output_type": "display_data"
    }
   ],
   "source": [
    "print(bo_trials)"
   ]
  },
  {
   "cell_type": "code",
   "execution_count": 7,
   "id": "3a49ac7f",
   "metadata": {},
   "outputs": [
    {
     "data": {
      "image/png": "[encoded data removed]",
      "text/plain": [
       "<Figure size 720x576 with 1 Axes>"
      ]
     },
     "metadata": {},
     "output_type": "display_data"
    },
    {
     "data": {
      "application/javascript": [
       "\n",
       "            setTimeout(function() {\n",
       "                var nbb_cell_id = 7;\n",
       "                var nbb_unformatted_code = \"x = np.arange(1, len(bo_trials) + 1)\\nplt.figure(figsize=(10, 8))\\nplt.title(\\\"Real Controller updates\\\", fontsize=16)\\n\\ncumul_min = np.minimum.accumulate(bo_trials)\\nupdates, idxs = np.unique(cumul_min, return_index=True)\\nplt.plot(x, cumul_min, color=sns.color_palette()[3])\\nplt.scatter(idxs, updates, color=\\\"r\\\", label=f\\\"Updates: {len(updates)}\\\")\\nplt.tick_params(axis=\\\"both\\\", which=\\\"major\\\", labelsize=14)\\nplt.xlabel(\\\"Iteration\\\", fontsize=14)\\nplt.ylabel(\\\"kWh\\\", fontsize=14)\\nplt.legend(fontsize=14)\\nplt.savefig(\\\"cumulsum.pdf\\\", format=\\\"pdf\\\")\\nplt.show()\";\n",
       "                var nbb_formatted_code = \"x = np.arange(1, len(bo_trials) + 1)\\nplt.figure(figsize=(10, 8))\\nplt.title(\\\"Real Controller updates\\\", fontsize=16)\\n\\ncumul_min = np.minimum.accumulate(bo_trials)\\nupdates, idxs = np.unique(cumul_min, return_index=True)\\nplt.plot(x, cumul_min, color=sns.color_palette()[3])\\nplt.scatter(idxs, updates, color=\\\"r\\\", label=f\\\"Updates: {len(updates)}\\\")\\nplt.tick_params(axis=\\\"both\\\", which=\\\"major\\\", labelsize=14)\\nplt.xlabel(\\\"Iteration\\\", fontsize=14)\\nplt.ylabel(\\\"kWh\\\", fontsize=14)\\nplt.legend(fontsize=14)\\nplt.savefig(\\\"cumulsum.pdf\\\", format=\\\"pdf\\\")\\nplt.show()\";\n",
       "                var nbb_cells = Jupyter.notebook.get_cells();\n",
       "                for (var i = 0; i < nbb_cells.length; ++i) {\n",
       "                    if (nbb_cells[i].input_prompt_number == nbb_cell_id) {\n",
       "                        if (nbb_cells[i].get_text() == nbb_unformatted_code) {\n",
       "                             nbb_cells[i].set_text(nbb_formatted_code);\n",
       "                        }\n",
       "                        break;\n",
       "                    }\n",
       "                }\n",
       "            }, 500);\n",
       "            "
      ],
      "text/plain": [
       "<IPython.core.display.Javascript object>"
      ]
     },
     "metadata": {},
     "output_type": "display_data"
    }
   ],
   "source": [
    "x = np.arange(1, len(bo_trials) + 1)\n",
    "plt.figure(figsize=(10, 8))\n",
    "plt.title(\"Real Controller updates\", fontsize=16)\n",
    "\n",
    "cumul_min = np.minimum.accumulate(bo_trials)\n",
    "updates, idxs = np.unique(cumul_min, return_index=True)\n",
    "plt.plot(x, cumul_min, color=sns.color_palette()[3])\n",
    "plt.scatter(idxs, updates, color=\"r\", label=f\"Updates: {len(updates)}\")\n",
    "plt.tick_params(axis=\"both\", which=\"major\", labelsize=14)\n",
    "plt.xlabel(\"Iteration\", fontsize=14)\n",
    "plt.ylabel(\"kWh\", fontsize=14)\n",
    "plt.legend(fontsize=14)\n",
    "plt.savefig(\"cumulsum.pdf\", format=\"pdf\")\n",
    "plt.show()"
   ]
  },
  {
   "cell_type": "code",
   "execution_count": 8,
   "id": "077bc684",
   "metadata": {},
   "outputs": [
    {
     "name": "stdout",
     "output_type": "stream",
     "text": [
      "[1.24700443 1.24700443 1.1825794  1.05979453 0.92454879 0.92454879\n",
      " 0.92454879 0.92454879 0.92454879 0.84019711 0.84019711 0.84019711\n",
      " 0.84019711 0.84019711 0.84019711 0.84019711 0.84019711 0.84019711\n",
      " 0.84019711 0.84019711 0.84019711 0.84019711 0.84019711 0.84019711\n",
      " 0.84019711 0.84019711 0.84019711 0.84019711 0.84019711 0.84019711\n",
      " 0.84019711 0.84019711 0.84019711 0.84019711 0.84019711 0.84019711\n",
      " 0.83408335 0.83408335 0.74711326 0.71969743 0.71969743 0.71969743\n",
      " 0.71969743 0.71969743 0.71969743 0.71969743 0.71969743 0.71969743\n",
      " 0.71969743 0.71969743 0.71969743 0.71969743 0.71969743 0.71969743\n",
      " 0.71969743 0.71969743 0.71969743 0.71969743 0.71969743 0.71969743\n",
      " 0.71969743 0.71969743 0.71969743 0.71969743 0.71969743 0.71969743\n",
      " 0.71969743 0.71969743 0.71969743 0.71969743 0.71969743 0.71969743\n",
      " 0.71969743 0.64720787 0.64720787 0.64720787 0.64720787 0.64720787\n",
      " 0.64720787 0.64720787 0.64720787 0.64720787 0.64720787 0.64720787\n",
      " 0.64720787 0.64720787 0.64720787 0.64028086 0.64028086 0.64028086\n",
      " 0.64028086 0.64028086 0.64028086 0.64028086 0.64028086 0.64028086\n",
      " 0.64028086 0.64028086 0.64028086 0.64028086 0.64028086 0.64028086\n",
      " 0.64028086 0.64028086 0.64028086 0.64028086 0.64028086 0.64028086\n",
      " 0.64028086 0.64028086 0.64028086 0.64028086 0.64028086 0.64028086\n",
      " 0.64028086 0.62703693 0.62703693 0.62703693 0.62703693 0.62703693\n",
      " 0.62703693 0.62703693 0.62703693 0.62703693 0.62703693 0.62703693\n",
      " 0.62703693 0.62703693 0.62703693 0.62703693 0.59411696 0.59411696\n",
      " 0.59411696 0.59411696 0.59411696 0.59411696 0.59411696 0.59411696\n",
      " 0.59411696 0.59411696 0.59411696 0.59411696 0.59411696 0.59411696\n",
      " 0.59411696 0.59411696 0.59411696 0.59411696 0.59411696 0.59411696\n",
      " 0.59411696 0.59411696 0.59411696 0.59411696 0.59411696 0.59411696\n",
      " 0.59411696 0.59411696 0.59411696 0.59411696 0.59411696 0.59411696\n",
      " 0.59411696 0.59411696 0.59411696 0.59411696 0.59411696 0.59411696\n",
      " 0.59411696 0.59411696 0.59411696 0.59411696 0.59411696 0.59411696\n",
      " 0.59411696 0.59411696 0.59411696 0.59411696 0.59411696 0.59411696\n",
      " 0.59411696 0.59411696 0.59411696 0.59411696 0.59411696 0.59411696\n",
      " 0.59411696 0.59411696 0.59411696 0.59411696 0.59411696 0.59411696\n",
      " 0.59411696 0.59411696 0.59411696 0.59411696 0.59411696 0.59411696\n",
      " 0.59411696 0.59411696 0.59411696 0.59411696 0.59411696 0.59411696\n",
      " 0.59411696 0.59411696 0.59411696 0.59411696 0.59411696 0.59411696\n",
      " 0.59411696 0.59411696 0.59411696 0.59411696 0.59411696 0.59411696\n",
      " 0.59411696 0.59411696 0.59411696 0.59411696 0.59411696 0.59411696\n",
      " 0.59411696 0.59411696 0.59411696 0.59411696 0.59411696 0.59411696\n",
      " 0.59411696 0.59411696 0.59411696 0.59411696 0.59411696 0.59411696\n",
      " 0.59411696 0.59411696 0.59411696 0.59411696 0.59411696 0.59411696\n",
      " 0.59411696 0.59411696 0.59411696 0.59411696 0.59411696 0.59411696\n",
      " 0.59411696 0.59411696 0.59411696 0.59411696 0.59411696 0.59411696\n",
      " 0.59411696 0.59411696 0.59411696 0.59411696 0.59411696 0.59411696\n",
      " 0.59411696 0.59411696 0.59411696 0.59411696 0.59411696 0.59411696\n",
      " 0.59411696 0.59411696 0.59411696 0.59411696 0.59411696 0.59411696\n",
      " 0.59411696 0.59411696 0.59411696 0.59411696 0.59411696 0.59411696\n",
      " 0.59411696 0.59411696 0.59411696 0.59411696 0.59411696 0.59411696\n",
      " 0.59411696 0.59411696 0.59411696 0.59411696 0.59411696 0.59411696\n",
      " 0.59411696 0.59411696 0.59411696 0.59411696 0.59411696 0.59411696\n",
      " 0.59411696 0.59411696 0.59411696 0.59411696 0.59411696 0.59411696\n",
      " 0.59411696 0.59411696 0.59411696 0.59411696 0.59411696 0.59411696\n",
      " 0.59411696 0.59411696 0.59411696 0.59411696 0.59411696 0.59411696\n",
      " 0.59411696 0.59411696 0.59411696 0.59411696 0.59411696 0.59411696\n",
      " 0.59411696 0.59411696 0.59411696 0.59411696 0.59411696 0.59411696\n",
      " 0.59411696 0.59411696 0.59411696 0.59411696 0.59411696 0.59411696\n",
      " 0.59411696 0.59411696 0.59411696 0.59411696 0.59411696 0.59411696\n",
      " 0.59411696 0.59411696 0.59411696 0.59411696 0.59411696 0.59411696\n",
      " 0.59411696 0.59411696 0.59411696 0.59411696 0.59411696 0.59411696\n",
      " 0.59411696 0.59411696 0.59411696 0.59411696 0.59411696 0.59411696\n",
      " 0.59411696 0.59411696 0.59411696 0.59411696 0.59411696 0.59411696\n",
      " 0.59411696 0.59411696 0.59411696 0.59411696 0.59411696 0.59411696\n",
      " 0.59411696 0.59411696 0.59411696 0.59411696 0.59411696 0.59411696\n",
      " 0.59411696 0.59411696 0.59411696 0.59411696 0.59411696 0.59411696\n",
      " 0.59411696 0.59411696 0.59411696 0.59411696 0.59411696 0.59411696\n",
      " 0.59411696 0.59411696 0.59411696 0.59411696 0.59411696 0.59411696\n",
      " 0.59411696 0.59411696 0.59411696 0.59411696 0.59411696 0.59411696\n",
      " 0.59411696 0.59411696 0.59411696 0.59411696 0.59411696 0.59411696\n",
      " 0.59411696 0.59411696 0.59411696 0.59411696 0.59411696 0.59411696\n",
      " 0.59411696 0.59411696 0.59411696 0.59411696 0.59411696 0.59411696\n",
      " 0.59411696 0.59411696 0.58648708 0.58648708 0.58648708 0.58648708\n",
      " 0.58648708 0.58648708 0.58648708 0.58648708 0.58648708 0.58648708\n",
      " 0.58648708 0.58648708 0.31433229 0.31433229 0.31433229 0.31433229\n",
      " 0.31433229 0.31433229 0.31433229 0.31433229 0.31433229 0.31433229\n",
      " 0.31433229 0.31433229 0.31433229 0.31433229 0.31433229 0.31433229\n",
      " 0.31433229 0.31433229 0.31433229 0.31433229 0.31433229 0.31433229\n",
      " 0.31433229 0.31433229 0.31433229 0.31433229 0.31433229 0.31433229\n",
      " 0.31433229 0.31433229 0.31433229 0.31433229 0.31433229 0.31433229\n",
      " 0.31433229 0.31433229 0.31433229 0.31433229 0.31433229 0.31433229\n",
      " 0.31433229 0.31433229 0.31433229 0.31433229 0.31433229 0.31433229\n",
      " 0.31433229 0.31433229 0.31433229 0.31433229 0.31433229 0.31433229\n",
      " 0.31433229 0.31433229 0.31433229 0.31433229 0.31433229 0.31433229\n",
      " 0.31433229 0.31433229 0.31433229 0.31433229 0.31433229 0.31433229\n",
      " 0.31433229 0.31433229 0.31433229 0.31433229 0.31433229 0.31433229\n",
      " 0.31433229 0.31433229 0.31433229 0.31433229 0.31433229 0.31433229\n",
      " 0.31433229 0.31433229 0.31433229 0.31433229 0.31433229 0.31433229\n",
      " 0.31433229 0.31433229 0.31433229 0.31433229 0.31433229 0.31433229\n",
      " 0.31433229 0.31433229 0.31433229 0.31433229 0.31433229 0.31433229\n",
      " 0.31433229 0.31433229 0.31433229 0.31433229 0.31433229 0.31433229\n",
      " 0.31433229 0.31433229 0.31433229 0.31433229 0.31433229 0.31433229\n",
      " 0.31433229 0.31433229 0.31433229 0.31433229 0.31433229 0.31433229\n",
      " 0.31433229 0.31433229 0.31433229 0.31433229 0.31433229 0.31433229\n",
      " 0.31433229 0.31433229 0.31433229 0.31433229 0.31433229 0.31433229\n",
      " 0.31433229 0.31433229 0.31433229 0.31433229 0.31433229 0.31433229\n",
      " 0.31433229 0.31433229 0.31433229 0.31433229 0.31433229 0.31433229\n",
      " 0.31433229 0.31433229 0.31433229 0.31433229 0.31433229 0.31433229\n",
      " 0.31433229 0.31433229 0.31433229 0.31433229 0.31433229 0.31433229\n",
      " 0.31433229 0.31433229 0.31433229 0.31433229 0.31433229 0.31433229\n",
      " 0.31433229 0.31433229 0.31433229 0.31433229 0.31433229 0.31433229\n",
      " 0.31433229 0.31433229 0.31433229 0.31433229 0.31433229 0.31433229\n",
      " 0.31433229 0.31433229 0.31433229 0.31433229 0.31433229 0.31433229\n",
      " 0.31433229 0.31433229 0.31433229 0.31433229 0.31433229 0.31433229\n",
      " 0.31433229 0.31433229 0.31433229 0.31433229 0.31433229 0.31433229\n",
      " 0.31433229 0.31433229 0.31433229 0.31433229 0.31433229 0.31433229\n",
      " 0.31433229 0.31433229 0.31433229 0.31433229 0.31433229 0.31433229\n",
      " 0.31433229 0.31433229 0.31433229 0.31433229 0.31433229 0.31433229\n",
      " 0.31433229 0.31433229 0.31433229 0.31433229 0.31433229 0.31433229\n",
      " 0.31433229 0.31433229 0.31433229 0.31433229 0.31433229 0.31433229\n",
      " 0.31433229 0.31433229 0.31433229 0.31433229 0.31433229 0.31433229\n",
      " 0.31433229 0.31433229 0.31433229 0.31433229 0.31433229 0.31433229\n",
      " 0.31433229 0.31433229 0.31433229 0.31433229 0.31433229 0.31433229\n",
      " 0.31433229 0.31433229 0.31433229 0.31433229 0.31433229 0.31433229\n",
      " 0.31433229 0.31433229 0.31433229 0.31433229 0.31433229 0.31433229\n",
      " 0.31433229 0.31433229 0.31433229 0.31433229 0.31433229 0.31433229\n",
      " 0.31433229 0.31433229 0.31433229 0.31433229 0.31433229 0.31433229\n",
      " 0.31433229 0.31433229 0.31433229 0.31433229 0.31433229 0.31433229\n",
      " 0.31433229 0.31433229 0.31433229 0.31433229 0.31433229 0.31433229\n",
      " 0.31433229 0.31433229 0.31433229 0.31433229 0.31433229 0.31433229\n",
      " 0.31433229 0.31433229 0.31433229 0.31433229 0.31433229 0.31433229\n",
      " 0.31433229 0.31433229 0.31433229 0.31433229 0.31433229 0.31433229\n",
      " 0.31433229 0.31433229 0.31433229 0.31433229 0.31433229 0.31433229\n",
      " 0.31433229 0.31433229 0.31433229 0.31433229 0.31433229 0.31433229\n",
      " 0.31433229 0.31433229 0.31433229 0.31433229 0.31433229 0.31433229\n",
      " 0.31433229 0.31433229 0.31433229 0.31433229 0.31433229 0.31433229\n",
      " 0.31433229 0.31433229 0.31433229 0.31433229 0.31433229 0.31433229\n",
      " 0.31433229 0.31433229 0.31433229 0.31433229 0.31433229 0.31433229\n",
      " 0.31433229 0.31433229 0.31433229 0.31433229 0.31433229 0.31433229\n",
      " 0.31433229 0.31433229 0.31433229 0.31433229 0.31433229 0.31433229\n",
      " 0.31433229 0.31433229 0.31433229 0.31433229 0.31433229 0.31433229\n",
      " 0.31433229 0.31433229 0.31433229 0.31433229 0.31433229 0.31433229\n",
      " 0.31433229 0.31433229 0.31433229 0.31433229 0.31433229 0.31433229\n",
      " 0.31433229 0.31433229 0.31433229 0.31433229 0.31433229 0.31433229\n",
      " 0.31433229 0.31433229 0.31433229 0.31433229 0.31433229 0.31433229\n",
      " 0.31433229 0.31433229 0.31433229 0.31433229 0.31433229 0.31433229\n",
      " 0.31433229 0.31433229 0.31433229 0.31433229 0.31433229 0.31433229\n",
      " 0.31433229 0.31433229 0.31433229 0.31433229 0.31433229 0.31433229\n",
      " 0.31433229 0.31433229 0.31433229 0.31433229 0.31433229 0.31433229\n",
      " 0.31433229 0.31433229 0.31433229 0.31433229 0.31433229 0.31433229\n",
      " 0.31433229 0.31433229 0.31433229 0.31433229 0.31433229 0.31433229\n",
      " 0.31433229 0.31433229 0.31433229 0.31433229 0.31433229 0.31433229\n",
      " 0.31433229 0.31433229 0.31433229 0.31433229 0.31433229 0.31433229\n",
      " 0.31433229 0.31433229 0.31433229 0.31433229 0.31433229 0.31433229\n",
      " 0.31433229 0.31433229 0.31433229 0.31433229 0.31433229 0.31433229\n",
      " 0.31433229 0.31433229 0.31433229 0.31433229 0.31433229 0.31433229\n",
      " 0.31433229 0.31433229 0.31433229 0.31433229 0.31433229 0.31433229\n",
      " 0.31433229 0.31433229 0.31433229 0.31433229 0.31433229 0.31433229\n",
      " 0.31433229 0.31433229 0.31433229 0.31433229 0.31433229 0.31433229\n",
      " 0.31433229 0.31433229 0.31433229 0.31433229 0.31433229 0.31433229\n",
      " 0.31433229 0.31433229 0.31433229 0.31433229 0.31433229 0.31433229\n",
      " 0.31433229 0.31433229 0.31433229 0.31433229 0.31433229 0.31433229\n",
      " 0.31433229 0.31433229 0.31433229 0.31433229 0.31433229 0.31433229\n",
      " 0.31433229 0.31433229 0.31433229 0.31433229 0.31433229 0.31433229\n",
      " 0.31433229 0.31433229 0.31433229 0.31433229 0.31433229 0.31433229\n",
      " 0.31433229 0.31433229 0.31433229 0.31433229 0.31433229 0.31433229\n",
      " 0.31433229 0.31433229 0.31433229 0.31433229 0.31433229 0.31433229\n",
      " 0.31433229 0.31433229 0.31433229 0.31433229 0.31433229 0.31433229\n",
      " 0.31433229 0.31433229 0.31433229 0.31433229 0.31433229 0.31433229\n",
      " 0.31433229 0.31433229 0.31433229 0.31433229 0.31433229 0.31433229\n",
      " 0.31433229 0.31433229 0.31433229 0.31433229 0.31433229 0.31433229\n",
      " 0.31433229 0.31433229 0.31433229 0.31433229 0.31433229 0.31433229\n",
      " 0.31433229 0.31433229 0.31433229 0.31433229 0.31433229 0.31433229\n",
      " 0.31433229 0.31433229 0.31433229 0.31433229 0.31433229 0.31433229\n",
      " 0.31433229 0.31433229 0.31433229 0.31433229 0.31433229 0.31433229\n",
      " 0.31433229 0.31433229 0.31433229 0.31433229 0.31433229 0.31433229\n",
      " 0.31433229 0.31433229 0.31433229 0.31433229 0.31433229 0.31433229\n",
      " 0.31433229 0.31433229 0.31433229 0.31433229 0.31433229 0.31433229\n",
      " 0.31433229 0.31433229 0.31433229 0.31433229 0.31433229 0.31433229\n",
      " 0.31433229 0.31433229 0.31433229 0.31433229]\n"
     ]
    },
    {
     "data": {
      "application/javascript": [
       "\n",
       "            setTimeout(function() {\n",
       "                var nbb_cell_id = 8;\n",
       "                var nbb_unformatted_code = \"print(cumul_min)\";\n",
       "                var nbb_formatted_code = \"print(cumul_min)\";\n",
       "                var nbb_cells = Jupyter.notebook.get_cells();\n",
       "                for (var i = 0; i < nbb_cells.length; ++i) {\n",
       "                    if (nbb_cells[i].input_prompt_number == nbb_cell_id) {\n",
       "                        if (nbb_cells[i].get_text() == nbb_unformatted_code) {\n",
       "                             nbb_cells[i].set_text(nbb_formatted_code);\n",
       "                        }\n",
       "                        break;\n",
       "                    }\n",
       "                }\n",
       "            }, 500);\n",
       "            "
      ],
      "text/plain": [
       "<IPython.core.display.Javascript object>"
      ]
     },
     "metadata": {},
     "output_type": "display_data"
    }
   ],
   "source": [
    "print(cumul_min)"
   ]
  },
  {
   "cell_type": "code",
   "execution_count": 9,
   "id": "92f118ee",
   "metadata": {},
   "outputs": [
    {
     "name": "stdout",
     "output_type": "stream",
     "text": [
      "[0.31433229 0.58648708 0.59411696 0.62703693 0.64028086 0.64720787\n",
      " 0.71969743 0.74711326 0.83408335 0.84019711 0.92454879 1.05979453\n",
      " 1.1825794  1.24700443]\n"
     ]
    },
    {
     "data": {
      "application/javascript": [
       "\n",
       "            setTimeout(function() {\n",
       "                var nbb_cell_id = 9;\n",
       "                var nbb_unformatted_code = \"print(updates)\";\n",
       "                var nbb_formatted_code = \"print(updates)\";\n",
       "                var nbb_cells = Jupyter.notebook.get_cells();\n",
       "                for (var i = 0; i < nbb_cells.length; ++i) {\n",
       "                    if (nbb_cells[i].input_prompt_number == nbb_cell_id) {\n",
       "                        if (nbb_cells[i].get_text() == nbb_unformatted_code) {\n",
       "                             nbb_cells[i].set_text(nbb_formatted_code);\n",
       "                        }\n",
       "                        break;\n",
       "                    }\n",
       "                }\n",
       "            }, 500);\n",
       "            "
      ],
      "text/plain": [
       "<IPython.core.display.Javascript object>"
      ]
     },
     "metadata": {},
     "output_type": "display_data"
    }
   ],
   "source": [
    "print(updates)"
   ]
  },
  {
   "cell_type": "code",
   "execution_count": 10,
   "id": "90ffac0a",
   "metadata": {},
   "outputs": [
    {
     "name": "stdout",
     "output_type": "stream",
     "text": [
      "[428 416 130 115  87  73  39  38  36   9   4   3   2   0]\n"
     ]
    },
    {
     "data": {
      "application/javascript": [
       "\n",
       "            setTimeout(function() {\n",
       "                var nbb_cell_id = 10;\n",
       "                var nbb_unformatted_code = \"print(idxs)\";\n",
       "                var nbb_formatted_code = \"print(idxs)\";\n",
       "                var nbb_cells = Jupyter.notebook.get_cells();\n",
       "                for (var i = 0; i < nbb_cells.length; ++i) {\n",
       "                    if (nbb_cells[i].input_prompt_number == nbb_cell_id) {\n",
       "                        if (nbb_cells[i].get_text() == nbb_unformatted_code) {\n",
       "                             nbb_cells[i].set_text(nbb_formatted_code);\n",
       "                        }\n",
       "                        break;\n",
       "                    }\n",
       "                }\n",
       "            }, 500);\n",
       "            "
      ],
      "text/plain": [
       "<IPython.core.display.Javascript object>"
      ]
     },
     "metadata": {},
     "output_type": "display_data"
    }
   ],
   "source": [
    "print(idxs)"
   ]
  },
  {
   "cell_type": "code",
   "execution_count": 11,
   "id": "d25ca7f5",
   "metadata": {},
   "outputs": [
    {
     "data": {
      "text/plain": [
       "{'home_velocity': 46,\n",
       " 'home_acceleration': 16,\n",
       " 'pick_approach_velocity': 96,\n",
       " 'pick_approach_acceleration': 79,\n",
       " 'pick_velocity': 21,\n",
       " 'pick_acceleration': 22,\n",
       " 'pick_retract_velocity': 26,\n",
       " 'pick_retract_acceleration': 35,\n",
       " 'place_approach_velocity': 56,\n",
       " 'place_approach_acceleration': 81,\n",
       " 'place_velocity': 10,\n",
       " 'place_acceleration': 27,\n",
       " 'place_retract_velocity': 49,\n",
       " 'place_retract_acceleration': 62}"
      ]
     },
     "execution_count": 11,
     "metadata": {},
     "output_type": "execute_result"
    },
    {
     "data": {
      "application/javascript": [
       "\n",
       "            setTimeout(function() {\n",
       "                var nbb_cell_id = 11;\n",
       "                var nbb_unformatted_code = \"bo_best_param\";\n",
       "                var nbb_formatted_code = \"bo_best_param\";\n",
       "                var nbb_cells = Jupyter.notebook.get_cells();\n",
       "                for (var i = 0; i < nbb_cells.length; ++i) {\n",
       "                    if (nbb_cells[i].input_prompt_number == nbb_cell_id) {\n",
       "                        if (nbb_cells[i].get_text() == nbb_unformatted_code) {\n",
       "                             nbb_cells[i].set_text(nbb_formatted_code);\n",
       "                        }\n",
       "                        break;\n",
       "                    }\n",
       "                }\n",
       "            }, 500);\n",
       "            "
      ],
      "text/plain": [
       "<IPython.core.display.Javascript object>"
      ]
     },
     "metadata": {},
     "output_type": "display_data"
    }
   ],
   "source": [
    "bo_best_param"
   ]
  },
  {
   "cell_type": "code",
   "execution_count": 12,
   "id": "1d9d962c",
   "metadata": {},
   "outputs": [
    {
     "data": {
      "text/plain": [
       "({'ec': 0.31448685096702766}, {'ec': {'ec': 0.03151359074643365}})"
      ]
     },
     "execution_count": 12,
     "metadata": {},
     "output_type": "execute_result"
    },
    {
     "data": {
      "application/javascript": [
       "\n",
       "            setTimeout(function() {\n",
       "                var nbb_cell_id = 12;\n",
       "                var nbb_unformatted_code = \"values\";\n",
       "                var nbb_formatted_code = \"values\";\n",
       "                var nbb_cells = Jupyter.notebook.get_cells();\n",
       "                for (var i = 0; i < nbb_cells.length; ++i) {\n",
       "                    if (nbb_cells[i].input_prompt_number == nbb_cell_id) {\n",
       "                        if (nbb_cells[i].get_text() == nbb_unformatted_code) {\n",
       "                             nbb_cells[i].set_text(nbb_formatted_code);\n",
       "                        }\n",
       "                        break;\n",
       "                    }\n",
       "                }\n",
       "            }, 500);\n",
       "            "
      ],
      "text/plain": [
       "<IPython.core.display.Javascript object>"
      ]
     },
     "metadata": {},
     "output_type": "display_data"
    }
   ],
   "source": [
    "values"
   ]
  },
  {
   "cell_type": "code",
   "execution_count": 13,
   "id": "3cb67f4d",
   "metadata": {},
   "outputs": [
    {
     "data": {
      "application/javascript": [
       "\n",
       "            setTimeout(function() {\n",
       "                var nbb_cell_id = 13;\n",
       "                var nbb_unformatted_code = \"# model = get_GPEI(experiment, experiment.fetch_data())\\n# render(\\n#     plot_contour(\\n#         model=model,\\n#         param_x=\\\"home_velocity\\\",\\n#         param_y=\\\"home_acceleration\\\",\\n#         metric_name=\\\"ec\\\",\\n#     )\\n# )\";\n",
       "                var nbb_formatted_code = \"# model = get_GPEI(experiment, experiment.fetch_data())\\n# render(\\n#     plot_contour(\\n#         model=model,\\n#         param_x=\\\"home_velocity\\\",\\n#         param_y=\\\"home_acceleration\\\",\\n#         metric_name=\\\"ec\\\",\\n#     )\\n# )\";\n",
       "                var nbb_cells = Jupyter.notebook.get_cells();\n",
       "                for (var i = 0; i < nbb_cells.length; ++i) {\n",
       "                    if (nbb_cells[i].input_prompt_number == nbb_cell_id) {\n",
       "                        if (nbb_cells[i].get_text() == nbb_unformatted_code) {\n",
       "                             nbb_cells[i].set_text(nbb_formatted_code);\n",
       "                        }\n",
       "                        break;\n",
       "                    }\n",
       "                }\n",
       "            }, 500);\n",
       "            "
      ],
      "text/plain": [
       "<IPython.core.display.Javascript object>"
      ]
     },
     "metadata": {},
     "output_type": "display_data"
    }
   ],
   "source": [
    "# model = get_GPEI(experiment, experiment.fetch_data())\n",
    "# render(\n",
    "#     plot_contour(\n",
    "#         model=model,\n",
    "#         param_x=\"home_velocity\",\n",
    "#         param_y=\"home_acceleration\",\n",
    "#         metric_name=\"ec\",\n",
    "#     )\n",
    "# )"
   ]
  },
  {
   "cell_type": "markdown",
   "id": "91985ed7",
   "metadata": {},
   "source": [
    "# analyze joints"
   ]
  },
  {
   "cell_type": "code",
   "execution_count": 14,
   "id": "d39a0986",
   "metadata": {},
   "outputs": [
    {
     "name": "stdout",
     "output_type": "stream",
     "text": [
      "0.31433229166666676\n",
      "data/exp_50\\2022-05-19-19-30-22\n"
     ]
    },
    {
     "data": {
      "application/javascript": [
       "\n",
       "            setTimeout(function() {\n",
       "                var nbb_cell_id = 14;\n",
       "                var nbb_unformatted_code = \"dirs = glob.glob(data_dir + \\\"*\\\")\\nbest = np.inf\\nfor d in dirs:\\n    if os.path.isdir(d):\\n        fn = os.path.join(d, \\\"energy.db\\\")\\n        ec = utils.get_ec_from_db(fn, sampling_rate=50)\\n        if ec < best:\\n            best = ec\\n            best_dir = d\\n\\nprint(best)\\nprint(best_dir)\";\n",
       "                var nbb_formatted_code = \"dirs = glob.glob(data_dir + \\\"*\\\")\\nbest = np.inf\\nfor d in dirs:\\n    if os.path.isdir(d):\\n        fn = os.path.join(d, \\\"energy.db\\\")\\n        ec = utils.get_ec_from_db(fn, sampling_rate=50)\\n        if ec < best:\\n            best = ec\\n            best_dir = d\\n\\nprint(best)\\nprint(best_dir)\";\n",
       "                var nbb_cells = Jupyter.notebook.get_cells();\n",
       "                for (var i = 0; i < nbb_cells.length; ++i) {\n",
       "                    if (nbb_cells[i].input_prompt_number == nbb_cell_id) {\n",
       "                        if (nbb_cells[i].get_text() == nbb_unformatted_code) {\n",
       "                             nbb_cells[i].set_text(nbb_formatted_code);\n",
       "                        }\n",
       "                        break;\n",
       "                    }\n",
       "                }\n",
       "            }, 500);\n",
       "            "
      ],
      "text/plain": [
       "<IPython.core.display.Javascript object>"
      ]
     },
     "metadata": {},
     "output_type": "display_data"
    }
   ],
   "source": [
    "dirs = glob.glob(data_dir + \"*\")\n",
    "best = np.inf\n",
    "for d in dirs:\n",
    "    if os.path.isdir(d):\n",
    "        fn = os.path.join(d, \"energy.db\")\n",
    "        ec = utils.get_ec_from_db(fn, sampling_rate=50)\n",
    "        if ec < best:\n",
    "            best = ec\n",
    "            best_dir = d\n",
    "\n",
    "print(best)\n",
    "print(best_dir)"
   ]
  },
  {
   "cell_type": "code",
   "execution_count": 15,
   "id": "536379e8",
   "metadata": {},
   "outputs": [
    {
     "data": {
      "application/javascript": [
       "\n",
       "            setTimeout(function() {\n",
       "                var nbb_cell_id = 15;\n",
       "                var nbb_unformatted_code = \"con = sqlite3.connect(os.path.join(best_dir, \\\"energy.db\\\"))\\ndf = pd.read_sql_query(\\n    \\\"SELECT * FROM energy_consumption;\\\", con, parse_dates=[\\\"time_point\\\"],\\n)\";\n",
       "                var nbb_formatted_code = \"con = sqlite3.connect(os.path.join(best_dir, \\\"energy.db\\\"))\\ndf = pd.read_sql_query(\\n    \\\"SELECT * FROM energy_consumption;\\\", con, parse_dates=[\\\"time_point\\\"],\\n)\";\n",
       "                var nbb_cells = Jupyter.notebook.get_cells();\n",
       "                for (var i = 0; i < nbb_cells.length; ++i) {\n",
       "                    if (nbb_cells[i].input_prompt_number == nbb_cell_id) {\n",
       "                        if (nbb_cells[i].get_text() == nbb_unformatted_code) {\n",
       "                             nbb_cells[i].set_text(nbb_formatted_code);\n",
       "                        }\n",
       "                        break;\n",
       "                    }\n",
       "                }\n",
       "            }, 500);\n",
       "            "
      ],
      "text/plain": [
       "<IPython.core.display.Javascript object>"
      ]
     },
     "metadata": {},
     "output_type": "display_data"
    }
   ],
   "source": [
    "con = sqlite3.connect(os.path.join(best_dir, \"energy.db\"))\n",
    "df = pd.read_sql_query(\n",
    "    \"SELECT * FROM energy_consumption;\", con, parse_dates=[\"time_point\"],\n",
    ")"
   ]
  },
  {
   "cell_type": "code",
   "execution_count": 16,
   "id": "eb104816",
   "metadata": {},
   "outputs": [
    {
     "data": {
      "text/html": [
       "<div>\n",
       "<style scoped>\n",
       "    .dataframe tbody tr th:only-of-type {\n",
       "        vertical-align: middle;\n",
       "    }\n",
       "\n",
       "    .dataframe tbody tr th {\n",
       "        vertical-align: top;\n",
       "    }\n",
       "\n",
       "    .dataframe thead th {\n",
       "        text-align: right;\n",
       "    }\n",
       "</style>\n",
       "<table border=\"1\" class=\"dataframe\">\n",
       "  <thead>\n",
       "    <tr style=\"text-align: right;\">\n",
       "      <th></th>\n",
       "      <th>id</th>\n",
       "      <th>time_point</th>\n",
       "      <th>ins_pwr</th>\n",
       "      <th>J1</th>\n",
       "      <th>J2</th>\n",
       "      <th>J3</th>\n",
       "      <th>J4</th>\n",
       "      <th>J5</th>\n",
       "      <th>J6</th>\n",
       "    </tr>\n",
       "  </thead>\n",
       "  <tbody>\n",
       "    <tr>\n",
       "      <th>0</th>\n",
       "      <td>1</td>\n",
       "      <td>2022-05-19 19:30:17.724632</td>\n",
       "      <td>204.688</td>\n",
       "      <td>16.016</td>\n",
       "      <td>56.989</td>\n",
       "      <td>-43.365</td>\n",
       "      <td>0.657</td>\n",
       "      <td>-45.921</td>\n",
       "      <td>-33.726</td>\n",
       "    </tr>\n",
       "    <tr>\n",
       "      <th>1</th>\n",
       "      <td>2</td>\n",
       "      <td>2022-05-19 19:30:17.810401</td>\n",
       "      <td>204.949</td>\n",
       "      <td>16.016</td>\n",
       "      <td>57.531</td>\n",
       "      <td>-43.793</td>\n",
       "      <td>0.662</td>\n",
       "      <td>-45.493</td>\n",
       "      <td>-33.733</td>\n",
       "    </tr>\n",
       "    <tr>\n",
       "      <th>2</th>\n",
       "      <td>3</td>\n",
       "      <td>2022-05-19 19:30:17.902664</td>\n",
       "      <td>205.618</td>\n",
       "      <td>16.016</td>\n",
       "      <td>58.212</td>\n",
       "      <td>-44.330</td>\n",
       "      <td>0.667</td>\n",
       "      <td>-44.956</td>\n",
       "      <td>-33.742</td>\n",
       "    </tr>\n",
       "    <tr>\n",
       "      <th>3</th>\n",
       "      <td>4</td>\n",
       "      <td>2022-05-19 19:30:17.982958</td>\n",
       "      <td>206.243</td>\n",
       "      <td>16.016</td>\n",
       "      <td>58.697</td>\n",
       "      <td>-44.712</td>\n",
       "      <td>0.671</td>\n",
       "      <td>-44.574</td>\n",
       "      <td>-33.748</td>\n",
       "    </tr>\n",
       "    <tr>\n",
       "      <th>4</th>\n",
       "      <td>5</td>\n",
       "      <td>2022-05-19 19:30:18.048781</td>\n",
       "      <td>206.882</td>\n",
       "      <td>16.016</td>\n",
       "      <td>59.022</td>\n",
       "      <td>-44.969</td>\n",
       "      <td>0.674</td>\n",
       "      <td>-44.318</td>\n",
       "      <td>-33.752</td>\n",
       "    </tr>\n",
       "  </tbody>\n",
       "</table>\n",
       "</div>"
      ],
      "text/plain": [
       "   id                 time_point  ins_pwr      J1      J2      J3     J4  \\\n",
       "0   1 2022-05-19 19:30:17.724632  204.688  16.016  56.989 -43.365  0.657   \n",
       "1   2 2022-05-19 19:30:17.810401  204.949  16.016  57.531 -43.793  0.662   \n",
       "2   3 2022-05-19 19:30:17.902664  205.618  16.016  58.212 -44.330  0.667   \n",
       "3   4 2022-05-19 19:30:17.982958  206.243  16.016  58.697 -44.712  0.671   \n",
       "4   5 2022-05-19 19:30:18.048781  206.882  16.016  59.022 -44.969  0.674   \n",
       "\n",
       "       J5      J6  \n",
       "0 -45.921 -33.726  \n",
       "1 -45.493 -33.733  \n",
       "2 -44.956 -33.742  \n",
       "3 -44.574 -33.748  \n",
       "4 -44.318 -33.752  "
      ]
     },
     "execution_count": 16,
     "metadata": {},
     "output_type": "execute_result"
    },
    {
     "data": {
      "application/javascript": [
       "\n",
       "            setTimeout(function() {\n",
       "                var nbb_cell_id = 16;\n",
       "                var nbb_unformatted_code = \"df.head()\";\n",
       "                var nbb_formatted_code = \"df.head()\";\n",
       "                var nbb_cells = Jupyter.notebook.get_cells();\n",
       "                for (var i = 0; i < nbb_cells.length; ++i) {\n",
       "                    if (nbb_cells[i].input_prompt_number == nbb_cell_id) {\n",
       "                        if (nbb_cells[i].get_text() == nbb_unformatted_code) {\n",
       "                             nbb_cells[i].set_text(nbb_formatted_code);\n",
       "                        }\n",
       "                        break;\n",
       "                    }\n",
       "                }\n",
       "            }, 500);\n",
       "            "
      ],
      "text/plain": [
       "<IPython.core.display.Javascript object>"
      ]
     },
     "metadata": {},
     "output_type": "display_data"
    }
   ],
   "source": [
    "df.head()"
   ]
  },
  {
   "cell_type": "code",
   "execution_count": 17,
   "id": "c1444b90",
   "metadata": {},
   "outputs": [
    {
     "data": {
      "image/png": "[encoded data removed]",
      "text/plain": [
       "<Figure size 720x1080 with 7 Axes>"
      ]
     },
     "metadata": {},
     "output_type": "display_data"
    },
    {
     "data": {
      "application/javascript": [
       "\n",
       "            setTimeout(function() {\n",
       "                var nbb_cell_id = 17;\n",
       "                var nbb_unformatted_code = \"df[[\\\"ins_pwr\\\", \\\"J1\\\", \\\"J2\\\", \\\"J3\\\", \\\"J4\\\", \\\"J5\\\", \\\"J6\\\"]].plot(\\n    subplots=True, sharex=True, figsize=(10, 15), fontsize=14, title=\\\"EC vs Joints\\\"\\n)\\n\\nplt.show()\";\n",
       "                var nbb_formatted_code = \"df[[\\\"ins_pwr\\\", \\\"J1\\\", \\\"J2\\\", \\\"J3\\\", \\\"J4\\\", \\\"J5\\\", \\\"J6\\\"]].plot(\\n    subplots=True, sharex=True, figsize=(10, 15), fontsize=14, title=\\\"EC vs Joints\\\"\\n)\\n\\nplt.show()\";\n",
       "                var nbb_cells = Jupyter.notebook.get_cells();\n",
       "                for (var i = 0; i < nbb_cells.length; ++i) {\n",
       "                    if (nbb_cells[i].input_prompt_number == nbb_cell_id) {\n",
       "                        if (nbb_cells[i].get_text() == nbb_unformatted_code) {\n",
       "                             nbb_cells[i].set_text(nbb_formatted_code);\n",
       "                        }\n",
       "                        break;\n",
       "                    }\n",
       "                }\n",
       "            }, 500);\n",
       "            "
      ],
      "text/plain": [
       "<IPython.core.display.Javascript object>"
      ]
     },
     "metadata": {},
     "output_type": "display_data"
    }
   ],
   "source": [
    "df[[\"ins_pwr\", \"J1\", \"J2\", \"J3\", \"J4\", \"J5\", \"J6\"]].plot(\n",
    "    subplots=True, sharex=True, figsize=(10, 15), fontsize=14, title=\"EC vs Joints\"\n",
    ")\n",
    "\n",
    "plt.show()"
   ]
  },
  {
   "cell_type": "code",
   "execution_count": 18,
   "id": "4e1e84e6",
   "metadata": {},
   "outputs": [
    {
     "name": "stdout",
     "output_type": "stream",
     "text": [
      "[204.688 204.949 205.618 206.243 206.882 207.372 207.864 208.286 208.503\n",
      " 208.61  208.52  192.533 221.916 241.369 247.986 244.089 238.947 230.563\n",
      " 219.047 216.423 216.541 207.079 213.155 224.728 228.446 232.37  236.378\n",
      " 242.642 247.477 252.814 258.637 263.031 268.243 270.853 272.999 272.767\n",
      " 271.11  266.877 262.934 255.916 248.057 242.165 234.411 227.122 221.23\n",
      " 214.794 210.356 205.893 202.436 200.369 198.592 197.081 196.412 195.664\n",
      " 195.094 194.765 194.597 194.542]\n"
     ]
    },
    {
     "data": {
      "application/javascript": [
       "\n",
       "            setTimeout(function() {\n",
       "                var nbb_cell_id = 18;\n",
       "                var nbb_unformatted_code = \"print(df[\\\"ins_pwr\\\"].values)\";\n",
       "                var nbb_formatted_code = \"print(df[\\\"ins_pwr\\\"].values)\";\n",
       "                var nbb_cells = Jupyter.notebook.get_cells();\n",
       "                for (var i = 0; i < nbb_cells.length; ++i) {\n",
       "                    if (nbb_cells[i].input_prompt_number == nbb_cell_id) {\n",
       "                        if (nbb_cells[i].get_text() == nbb_unformatted_code) {\n",
       "                             nbb_cells[i].set_text(nbb_formatted_code);\n",
       "                        }\n",
       "                        break;\n",
       "                    }\n",
       "                }\n",
       "            }, 500);\n",
       "            "
      ],
      "text/plain": [
       "<IPython.core.display.Javascript object>"
      ]
     },
     "metadata": {},
     "output_type": "display_data"
    }
   ],
   "source": [
    "print(df[\"ins_pwr\"].values)"
   ]
  },
  {
   "cell_type": "code",
   "execution_count": 19,
   "id": "17a5ba18",
   "metadata": {},
   "outputs": [
    {
     "name": "stdout",
     "output_type": "stream",
     "text": [
      "[1.6016e+01 1.6016e+01 1.6016e+01 1.6016e+01 1.6016e+01 1.6016e+01\n",
      " 1.6016e+01 1.6016e+01 1.6016e+01 1.6016e+01 1.6016e+01 1.6016e+01\n",
      " 1.6016e+01 1.6016e+01 1.6016e+01 1.6016e+01 1.6016e+01 1.6016e+01\n",
      " 1.6016e+01 1.6016e+01 1.6016e+01 1.6016e+01 1.6011e+01 1.5974e+01\n",
      " 1.5896e+01 1.5783e+01 1.5587e+01 1.5317e+01 1.4967e+01 1.4534e+01\n",
      " 1.4011e+01 1.3578e+01 1.2888e+01 1.2224e+01 1.1371e+01 1.0585e+01\n",
      " 9.7610e+00 8.9110e+00 8.0480e+00 7.0420e+00 6.1940e+00 5.5070e+00\n",
      " 4.7160e+00 3.9750e+00 3.2940e+00 2.6790e+00 2.1370e+00 1.6710e+00\n",
      " 1.2790e+00 9.0400e-01 6.8700e-01 4.4600e-01 2.7000e-01 1.4700e-01\n",
      " 6.8000e-02 2.4000e-02 5.0000e-03 0.0000e+00]\n"
     ]
    },
    {
     "data": {
      "application/javascript": [
       "\n",
       "            setTimeout(function() {\n",
       "                var nbb_cell_id = 19;\n",
       "                var nbb_unformatted_code = \"print(df[\\\"J1\\\"].values)\";\n",
       "                var nbb_formatted_code = \"print(df[\\\"J1\\\"].values)\";\n",
       "                var nbb_cells = Jupyter.notebook.get_cells();\n",
       "                for (var i = 0; i < nbb_cells.length; ++i) {\n",
       "                    if (nbb_cells[i].input_prompt_number == nbb_cell_id) {\n",
       "                        if (nbb_cells[i].get_text() == nbb_unformatted_code) {\n",
       "                             nbb_cells[i].set_text(nbb_formatted_code);\n",
       "                        }\n",
       "                        break;\n",
       "                    }\n",
       "                }\n",
       "            }, 500);\n",
       "            "
      ],
      "text/plain": [
       "<IPython.core.display.Javascript object>"
      ]
     },
     "metadata": {},
     "output_type": "display_data"
    }
   ],
   "source": [
    "print(df[\"J1\"].values)"
   ]
  },
  {
   "cell_type": "code",
   "execution_count": 20,
   "id": "395b2021",
   "metadata": {},
   "outputs": [
    {
     "name": "stdout",
     "output_type": "stream",
     "text": [
      "[ 56.989  57.531  58.212  58.697  59.022  59.319  59.527  59.677  59.752\n",
      "  59.778  59.781  59.779  59.673  58.611  57.396  55.817  54.58   53.646\n",
      "  53.09   52.944  52.928  52.928  52.901  52.718  52.321  51.748  50.762\n",
      "  49.395  47.627  45.438  42.796  40.609  37.124  33.766  29.457  25.485\n",
      "  21.321  17.027  12.668   7.583   3.297  -0.175  -4.169  -7.912 -11.355\n",
      " -14.462 -17.204 -19.556 -21.539 -23.429 -24.524 -25.742 -26.636 -27.256\n",
      " -27.652 -27.874 -27.974 -28.   ]\n"
     ]
    },
    {
     "data": {
      "application/javascript": [
       "\n",
       "            setTimeout(function() {\n",
       "                var nbb_cell_id = 20;\n",
       "                var nbb_unformatted_code = \"print(df[\\\"J2\\\"].values)\";\n",
       "                var nbb_formatted_code = \"print(df[\\\"J2\\\"].values)\";\n",
       "                var nbb_cells = Jupyter.notebook.get_cells();\n",
       "                for (var i = 0; i < nbb_cells.length; ++i) {\n",
       "                    if (nbb_cells[i].input_prompt_number == nbb_cell_id) {\n",
       "                        if (nbb_cells[i].get_text() == nbb_unformatted_code) {\n",
       "                             nbb_cells[i].set_text(nbb_formatted_code);\n",
       "                        }\n",
       "                        break;\n",
       "                    }\n",
       "                }\n",
       "            }, 500);\n",
       "            "
      ],
      "text/plain": [
       "<IPython.core.display.Javascript object>"
      ]
     },
     "metadata": {},
     "output_type": "display_data"
    }
   ],
   "source": [
    "print(df[\"J2\"].values)"
   ]
  },
  {
   "cell_type": "code",
   "execution_count": 21,
   "id": "3c872e9a",
   "metadata": {},
   "outputs": [
    {
     "name": "stdout",
     "output_type": "stream",
     "text": [
      "[-43.365 -43.793 -44.33  -44.712 -44.969 -45.203 -45.367 -45.485 -45.544\n",
      " -45.565 -45.567 -45.566 -45.482 -44.645 -43.687 -42.441 -41.466 -40.73\n",
      " -40.291 -40.176 -40.163 -40.163 -40.161 -40.15  -40.124 -40.088 -40.025\n",
      " -39.938 -39.825 -39.685 -39.517 -39.377 -39.155 -38.94  -38.666 -38.412\n",
      " -38.147 -37.873 -37.595 -37.27  -36.997 -36.775 -36.52  -36.282 -36.062\n",
      " -35.864 -35.689 -35.539 -35.412 -35.292 -35.222 -35.144 -35.087 -35.047\n",
      " -35.022 -35.008 -35.002 -35.   ]\n"
     ]
    },
    {
     "data": {
      "application/javascript": [
       "\n",
       "            setTimeout(function() {\n",
       "                var nbb_cell_id = 21;\n",
       "                var nbb_unformatted_code = \"print(df[\\\"J3\\\"].values)\";\n",
       "                var nbb_formatted_code = \"print(df[\\\"J3\\\"].values)\";\n",
       "                var nbb_cells = Jupyter.notebook.get_cells();\n",
       "                for (var i = 0; i < nbb_cells.length; ++i) {\n",
       "                    if (nbb_cells[i].input_prompt_number == nbb_cell_id) {\n",
       "                        if (nbb_cells[i].get_text() == nbb_unformatted_code) {\n",
       "                             nbb_cells[i].set_text(nbb_formatted_code);\n",
       "                        }\n",
       "                        break;\n",
       "                    }\n",
       "                }\n",
       "            }, 500);\n",
       "            "
      ],
      "text/plain": [
       "<IPython.core.display.Javascript object>"
      ]
     },
     "metadata": {},
     "output_type": "display_data"
    }
   ],
   "source": [
    "print(df[\"J3\"].values)"
   ]
  },
  {
   "cell_type": "code",
   "execution_count": 22,
   "id": "7d3e655c",
   "metadata": {},
   "outputs": [
    {
     "name": "stdout",
     "output_type": "stream",
     "text": [
      "[0.657 0.662 0.667 0.671 0.674 0.677 0.678 0.68  0.68  0.681 0.681 0.681\n",
      " 0.68  0.671 0.66  0.647 0.637 0.629 0.624 0.623 0.623 0.623 0.622 0.621\n",
      " 0.618 0.613 0.606 0.595 0.582 0.565 0.545 0.528 0.501 0.475 0.442 0.411\n",
      " 0.379 0.346 0.313 0.273 0.24  0.214 0.183 0.154 0.128 0.104 0.083 0.065\n",
      " 0.049 0.035 0.026 0.017 0.01  0.005 0.002 0.    0.    0.   ]\n"
     ]
    },
    {
     "data": {
      "application/javascript": [
       "\n",
       "            setTimeout(function() {\n",
       "                var nbb_cell_id = 22;\n",
       "                var nbb_unformatted_code = \"print(df[\\\"J4\\\"].values)\";\n",
       "                var nbb_formatted_code = \"print(df[\\\"J4\\\"].values)\";\n",
       "                var nbb_cells = Jupyter.notebook.get_cells();\n",
       "                for (var i = 0; i < nbb_cells.length; ++i) {\n",
       "                    if (nbb_cells[i].input_prompt_number == nbb_cell_id) {\n",
       "                        if (nbb_cells[i].get_text() == nbb_unformatted_code) {\n",
       "                             nbb_cells[i].set_text(nbb_formatted_code);\n",
       "                        }\n",
       "                        break;\n",
       "                    }\n",
       "                }\n",
       "            }, 500);\n",
       "            "
      ],
      "text/plain": [
       "<IPython.core.display.Javascript object>"
      ]
     },
     "metadata": {},
     "output_type": "display_data"
    }
   ],
   "source": [
    "print(df[\"J4\"].values)"
   ]
  },
  {
   "cell_type": "code",
   "execution_count": 23,
   "id": "8f69418b",
   "metadata": {},
   "outputs": [
    {
     "name": "stdout",
     "output_type": "stream",
     "text": [
      "[-45.921 -45.493 -44.956 -44.574 -44.318 -44.083 -43.919 -43.801 -43.742\n",
      " -43.721 -43.719 -43.72  -43.804 -44.641 -45.599 -46.845 -47.82  -48.556\n",
      " -48.995 -49.11  -49.123 -49.123 -49.125 -49.138 -49.167 -49.209 -49.28\n",
      " -49.38  -49.508 -49.667 -49.859 -50.018 -50.271 -50.515 -50.827 -51.116\n",
      " -51.418 -51.73  -52.047 -52.416 -52.727 -52.979 -53.269 -53.541 -53.791\n",
      " -54.017 -54.216 -54.387 -54.531 -54.668 -54.748 -54.836 -54.901 -54.946\n",
      " -54.975 -54.991 -54.998 -55.   ]\n"
     ]
    },
    {
     "data": {
      "application/javascript": [
       "\n",
       "            setTimeout(function() {\n",
       "                var nbb_cell_id = 23;\n",
       "                var nbb_unformatted_code = \"print(df[\\\"J5\\\"].values)\";\n",
       "                var nbb_formatted_code = \"print(df[\\\"J5\\\"].values)\";\n",
       "                var nbb_cells = Jupyter.notebook.get_cells();\n",
       "                for (var i = 0; i < nbb_cells.length; ++i) {\n",
       "                    if (nbb_cells[i].input_prompt_number == nbb_cell_id) {\n",
       "                        if (nbb_cells[i].get_text() == nbb_unformatted_code) {\n",
       "                             nbb_cells[i].set_text(nbb_formatted_code);\n",
       "                        }\n",
       "                        break;\n",
       "                    }\n",
       "                }\n",
       "            }, 500);\n",
       "            "
      ],
      "text/plain": [
       "<IPython.core.display.Javascript object>"
      ]
     },
     "metadata": {},
     "output_type": "display_data"
    }
   ],
   "source": [
    "print(df[\"J5\"].values)"
   ]
  },
  {
   "cell_type": "code",
   "execution_count": 24,
   "id": "04773307",
   "metadata": {},
   "outputs": [
    {
     "name": "stdout",
     "output_type": "stream",
     "text": [
      "[-3.3726e+01 -3.3733e+01 -3.3742e+01 -3.3748e+01 -3.3752e+01 -3.3755e+01\n",
      " -3.3758e+01 -3.3760e+01 -3.3761e+01 -3.3761e+01 -3.3761e+01 -3.3761e+01\n",
      " -3.3760e+01 -3.3746e+01 -3.3731e+01 -3.3712e+01 -3.3696e+01 -3.3685e+01\n",
      " -3.3678e+01 -3.3676e+01 -3.3676e+01 -3.3676e+01 -3.3665e+01 -3.3589e+01\n",
      " -3.3424e+01 -3.3185e+01 -3.2774e+01 -3.2206e+01 -3.1470e+01 -3.0559e+01\n",
      " -2.9460e+01 -2.8550e+01 -2.7100e+01 -2.5702e+01 -2.3909e+01 -2.2256e+01\n",
      " -2.0524e+01 -1.8737e+01 -1.6923e+01 -1.4807e+01 -1.3023e+01 -1.1578e+01\n",
      " -9.9170e+00 -8.3590e+00 -6.9260e+00 -5.6330e+00 -4.4930e+00 -3.5140e+00\n",
      " -2.6880e+00 -1.9020e+00 -1.4460e+00 -9.3900e-01 -5.6700e-01 -3.0900e-01\n",
      " -1.4400e-01 -5.2000e-02 -1.1000e-02  0.0000e+00]\n"
     ]
    },
    {
     "data": {
      "application/javascript": [
       "\n",
       "            setTimeout(function() {\n",
       "                var nbb_cell_id = 24;\n",
       "                var nbb_unformatted_code = \"print(df[\\\"J6\\\"].values)\";\n",
       "                var nbb_formatted_code = \"print(df[\\\"J6\\\"].values)\";\n",
       "                var nbb_cells = Jupyter.notebook.get_cells();\n",
       "                for (var i = 0; i < nbb_cells.length; ++i) {\n",
       "                    if (nbb_cells[i].input_prompt_number == nbb_cell_id) {\n",
       "                        if (nbb_cells[i].get_text() == nbb_unformatted_code) {\n",
       "                             nbb_cells[i].set_text(nbb_formatted_code);\n",
       "                        }\n",
       "                        break;\n",
       "                    }\n",
       "                }\n",
       "            }, 500);\n",
       "            "
      ],
      "text/plain": [
       "<IPython.core.display.Javascript object>"
      ]
     },
     "metadata": {},
     "output_type": "display_data"
    }
   ],
   "source": [
    "print(df[\"J6\"].values)"
   ]
  },
  {
   "cell_type": "code",
   "execution_count": null,
   "id": "3290163d",
   "metadata": {},
   "outputs": [],
   "source": []
  }
 ],
 "metadata": {
  "interpreter": {
   "hash": "589153705e307682f94545bccaff927ae5769e8b2f7353199015073aa4d652ce"
  },
  "kernelspec": {
   "display_name": "Python 3 (ipykernel)",
   "language": "python",
   "name": "python3"
  },
  "language_info": {
   "codemirror_mode": {
    "name": "ipython",
    "version": 3
   },
   "file_extension": ".py",
   "mimetype": "text/x-python",
   "name": "python",
   "nbconvert_exporter": "python",
   "pygments_lexer": "ipython3",
   "version": "3.9.12"
  }
 },
 "nbformat": 4,
 "nbformat_minor": 5
}
